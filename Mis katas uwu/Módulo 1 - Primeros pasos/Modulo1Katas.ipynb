{
 "cells": [
  {
   "cell_type": "markdown",
   "metadata": {},
   "source": [
    "Oficial superior> \"¿Cadete?\"\n",
    "\n",
    "Usted > \"¿Sí, señora?\"\n",
    "\n",
    "Oficial superior> \"¿Puedes construir un programa que me muestre la fecha? La computadora del barco no venía con mucho en términos de programas de utilidad, por lo que necesitamos crear los que necesitamos. ¿Puedo confiar en ti con esto?\"\n",
    "\n",
    "Usted > \"Considéralo hecho\".\n",
    "\n",
    "Oficial superior> \"Excelente\"."
   ]
  },
  {
   "cell_type": "markdown",
   "metadata": {},
   "source": [
    "# Primer Programa\n",
    "## Muestra la fecha del dia de hoy"
   ]
  },
  {
   "cell_type": "code",
   "execution_count": 14,
   "metadata": {},
   "outputs": [
    {
     "name": "stdout",
     "output_type": "stream",
     "text": [
      "Today's date is: 2022-02-09\n"
     ]
    }
   ],
   "source": [
    "from datetime import date\n",
    "\n",
    "print(\"Today's date is: \" + str(date.today()))"
   ]
  },
  {
   "cell_type": "markdown",
   "metadata": {},
   "source": [
    "## Construir un convertidor de unidades\n",
    "El oficial superior> \"Necesito una cosa más: un programa de conversión entre parsecs y años luz. Tener un programa de este tipo podría ser realmente útil en el puente para trazar nuestro curso\".\n",
    "\n",
    "Tú> \"¡Lo haré!\""
   ]
  },
  {
   "cell_type": "code",
   "execution_count": 17,
   "metadata": {},
   "outputs": [
    {
     "name": "stdout",
     "output_type": "stream",
     "text": [
      "Bienvenido a la herramienta de conversion.\n",
      "Eliga una opcion: \n",
      "Escriba 1 para convertir de parsecs a años luz\n",
      "Escriba 2 para convertir de años luz a parsecs\n",
      "1 lightyears, is 0.306601 parsecs\n"
     ]
    }
   ],
   "source": [
    "print(\"Bienvenido a la herramienta de conversion.\\nEliga una opcion: \\nEscriba 1 para convertir de parsecs a años luz\\nEscriba 2 para convertir de años luz a parsecs\")\n",
    "op = int(input(\"Ingrese la opcion a realziar\"))\n",
    "match(op):\n",
    "    case 1:\n",
    "        parsec = int(input(\"Ingrese la cantidad de parsecs\"))\n",
    "        lightyears = 3.26156\n",
    "        print(str(parsec) + \" parsec, is \" + str(lightyears * parsec) + \" lightyears\")\n",
    "    case 2:\n",
    "        lightyears = int(input(\"Ingrese la cantidad de años luz\"))\n",
    "        parsec = 0.306601\n",
    "        print(str(lightyears) + \" lightyears, is \" + str(parsec * lightyears) + \" parsecs\")"
   ]
  }
 ],
 "metadata": {
  "interpreter": {
   "hash": "d656e7cfdbd4686f0602f020b2282796dd76a8c42218f6bf9cf2c6c7301026bf"
  },
  "kernelspec": {
   "display_name": "Python 3.10.2 64-bit",
   "language": "python",
   "name": "python3"
  },
  "language_info": {
   "codemirror_mode": {
    "name": "ipython",
    "version": 3
   },
   "file_extension": ".py",
   "mimetype": "text/x-python",
   "name": "python",
   "nbconvert_exporter": "python",
   "pygments_lexer": "ipython3",
   "version": "3.10.2"
  },
  "orig_nbformat": 4
 },
 "nbformat": 4,
 "nbformat_minor": 2
}
